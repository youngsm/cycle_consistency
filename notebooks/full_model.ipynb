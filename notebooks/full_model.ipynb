{
 "cells": [
  {
   "cell_type": "code",
   "execution_count": 1,
   "metadata": {},
   "outputs": [],
   "source": [
    "import sys\n",
    "\n",
    "sys.path.append(\"/sdf/home/y/youngsam/sw/dune/consistency/cycle_consistency/src\")"
   ]
  },
  {
   "cell_type": "code",
   "execution_count": 2,
   "metadata": {},
   "outputs": [],
   "source": [
    "from models.components.mlp import Mlp"
   ]
  },
  {
   "cell_type": "code",
   "execution_count": 3,
   "metadata": {},
   "outputs": [
    {
     "name": "stdout",
     "output_type": "stream",
     "text": [
      "[Siren] 3 in => 180 out, hidden 512 features 5 layers\n",
      "        omega 30 first 30.0 hidden, the final layer linear False\n",
      "[SirenVis] loading model_dict from checkpoint /sdf/home/y/youngsam/sw/dune/consistency/cycle_consistency/data/icarus_2024-11-18.ckpt\n",
      "[SirenVis] loading model_dict\n",
      "[SirenVis] loading finished\n",
      "\n",
      "BatchedLightSimulation Config:\n",
      "\tSINGLET_FRACTION: uniform(0.1, 0.5)\n",
      "\tLIGHT_OSCILLATION_PERIOD: uniform(0.05, 0.20)\n",
      "\tLIGHT_RESPONSE_TIME: uniform(0.01, 0.10)\n",
      "\tLIGHT_GAIN: uniform(-50.0, -20.0)\n",
      "\tTAU_S: uniform(0.0001, 0.01)\n",
      "\tTAU_T: uniform(0.9, 2.1)\n",
      "\t\n",
      "\tNOMINAL_SINGLET_FRACTION: 0.35\n",
      "\tNOMINAL_LIGHT_OSCILLATION_PERIOD: 0.11     # us\n",
      "\tNOMINAL_LIGHT_RESPONSE_TIME: 0.055         # us^-1\n",
      "\tNOMINAL_TAU_S: 0.001                       # us\n",
      "\tNOMINAL_TAU_T: 1.530                       # us\n",
      "\tNOMINAL_LIGHT_GAIN: -45.0                  # ADC us/pe\n",
      "\t\n",
      "\tLIGHT_TICK_SIZE: 0.001\n",
      "\tLIGHT_WINDOW: [1, 10]\n"
     ]
    },
    {
     "name": "stderr",
     "output_type": "stream",
     "text": [
      "/sdf/group/neutrino/youngsam/siren-lartpc/slar/siren_vis.py:68: FutureWarning: You are using `torch.load` with `weights_only=False` (the current default value), which uses the default pickle module implicitly. It is possible to construct malicious pickle data which will execute arbitrary code during unpickling (See https://github.com/pytorch/pytorch/blob/main/SECURITY.md#untrusted-models for more details). In a future release, the default value for `weights_only` will be flipped to `True`. This limits the functions that could be executed during unpickling. Arbitrary objects will no longer be allowed to be loaded via this mode unless they are explicitly allowlisted by the user via `torch.serialization.add_safe_globals`. We recommend you start setting `weights_only=True` for any use case where you don't have full control of the loaded file. Please open an issue on GitHub for any issues related to this experimental feature.\n",
      "  model_dict = torch.load(f, map_location='cpu')\n"
     ]
    },
    {
     "name": "stdout",
     "output_type": "stream",
     "text": [
      "torch.Size([1, 180, 18998])\n"
     ]
    },
    {
     "data": {
      "text/plain": [
       "torch.Size([180, 1000])"
      ]
     },
     "execution_count": 3,
     "metadata": {},
     "output_type": "execute_result"
    }
   ],
   "source": [
    "import torch\n",
    "import matplotlib.pyplot as plt\n",
    "import yaml\n",
    "from pfmatch.apps import ToyMC\n",
    "from pfmatch.utils import load_detector_config\n",
    "from slar.nets import SirenVis\n",
    "from sirentv.waveform import BatchedLightSimulation\n",
    "\n",
    "from tqdm import tqdm\n",
    "\n",
    "# Load SirenVis model\n",
    "siren_cfg = \"\"\"\n",
    "model:\n",
    "    network:\n",
    "        in_features: 3\n",
    "        hidden_features: 512\n",
    "        hidden_layers: 5\n",
    "        out_features: 180\n",
    "    ckpt_file: \"/sdf/home/y/youngsam/sw/dune/consistency/cycle_consistency/data/icarus_2024-11-18.ckpt\"\n",
    "\"\"\"\n",
    "siren_cfg = yaml.safe_load(siren_cfg)\n",
    "slib = SirenVis(siren_cfg)\n",
    "\n",
    "# Load ToyMC config\n",
    "toymc_cfg = \"\"\"\n",
    "Detector: icarus_detector\n",
    "\n",
    "ToyMC:\n",
    "    TimeAlgo: \"random\"\n",
    "    TrackAlgo: \"random-extended\"\n",
    "    PeriodTPC: [-1300.,1300]\n",
    "    PeriodPMT: [-1000., 1000.]\n",
    "    PEVariation: 0.01\n",
    "    LightYieldVariation: 0.00\n",
    "    PosXVariation: 0.0\n",
    "    TruncateTPC: 0\n",
    "    NumTracks: 5\n",
    "    NumpySeed: 1\n",
    "    NeutrinoTime: 0.\n",
    "\n",
    "LightPath:\n",
    "    SegmentSize: 0.1\n",
    "\"\"\"\n",
    "toymc_cfg = yaml.safe_load(toymc_cfg)\n",
    "det_cfg = load_detector_config(toymc_cfg)\n",
    "\n",
    "# Initialize generators\n",
    "gen = ToyMC(toymc_cfg, det_cfg, slib)\n",
    "sim = BatchedLightSimulation(cfg=\"../../sirentv/templates/waveform_sim.yaml\").to(\"cuda:0\")\n",
    "# sim.\n",
    "\n",
    "\n",
    "def make_photons(qpt_v):\n",
    "    \"\"\"Make PMT photo-electron counts from QCluster_t\"\"\"\n",
    "    pe_v = torch.sum(\n",
    "        slib.visibility(qpt_v[:, :3]) * (qpt_v[:, 3].unsqueeze(-1)), axis=0\n",
    "    )\n",
    "    return pe_v\n",
    "\n",
    "\n",
    "def generate_mock_data(n_events=10):\n",
    "    \"\"\"Generate mock photoelectron distributions and waveforms\"\"\"\n",
    "    # Generate ToyMC data\n",
    "    data = gen.make_flashmatch_inputs(n_events)\n",
    "\n",
    "    # Get photoelectron distributions\n",
    "    pe_distributions = []\n",
    "    for i in range(len(data.qcluster_v)):\n",
    "        pe_distributions.append(make_photons(data.qcluster_v[i].qpt_v))\n",
    "\n",
    "    # Convert to waveform inputs (assuming 1ns tick size)\n",
    "    # We'll place all PEs at a single random time point (delta function)\n",
    "    n_ticks = 1000  # 3us at 1ns/tick\n",
    "    waveform_inputs = torch.zeros((n_events, 180, n_ticks), device=\"cuda:0\")\n",
    "\n",
    "    for i, pe_dist in enumerate(pe_distributions):\n",
    "        time_point = torch.randint(0, n_ticks, (1,), device=\"cuda:0\").item()\n",
    "        for ch in range(180):\n",
    "            n_pe = int(pe_dist[ch].item())\n",
    "            if n_pe > 0:\n",
    "                # Place all PEs at a single random time point (delta function)\n",
    "                waveform_inputs[i, ch, time_point] = n_pe\n",
    "\n",
    "    # Simulate waveforms\n",
    "    with torch.no_grad():\n",
    "        waveforms = sim(waveform_inputs.sum(0), relax_cut=False)\n",
    "\n",
    "    return pe_distributions, waveform_inputs, waveforms\n",
    "\n",
    "\n",
    "# Generate and plot example data\n",
    "pe_distributions, inputs, waveforms = generate_mock_data(n_events=5)\n",
    "waveforms = waveforms[:, :16_000].reshape(waveforms.shape[0], -1, 16).sum(-1)\n",
    "waveforms.shape"
   ]
  },
  {
   "cell_type": "code",
   "execution_count": null,
   "metadata": {},
   "outputs": [],
   "source": [
    "pe_distributions.shape"
   ]
  },
  {
   "cell_type": "code",
   "execution_count": 27,
   "metadata": {},
   "outputs": [],
   "source": [
    "wvfm_encoder = Mlp(1000, 512, 192, linear_layer='sine').cuda()\n",
    "\n",
    "from models.components.transformer import vit_tiny\n",
    "tformer_encoder = vit_tiny().cuda()\n",
    "tformer_decoder = vit_tiny().cuda()"
   ]
  },
  {
   "cell_type": "code",
   "execution_count": 39,
   "metadata": {},
   "outputs": [],
   "source": [
    "import torch\n",
    "import torch.nn as nn\n",
    "\n",
    "def make_learned_tokens(shape, init_std=0.02):\n",
    "    tokens = nn.Parameter(torch.zeros(*shape))\n",
    "    nn.init.trunc_normal_(tokens, mean=0, std=init_std, a=-init_std, b=init_std)\n",
    "    return tokens\n",
    "\n",
    "num_pmts = 180\n",
    "enc = wvfm_encoder(waveforms)\n",
    "pos_tokens = make_learned_tokens((num_pmts, tformer_encoder.embed_dim)).cuda()"
   ]
  },
  {
   "cell_type": "code",
   "execution_count": null,
   "metadata": {},
   "outputs": [
    {
     "data": {
      "text/plain": [
       "torch.Size([1, 10, 192])"
      ]
     },
     "execution_count": 42,
     "metadata": {},
     "output_type": "execute_result"
    }
   ],
   "source": [
    "enc_out = tformer_encoder(enc.unsqueeze(0), pos_tokens.unsqueeze(0)).last_hidden_state\n",
    "\n",
    "# flash queries\n",
    "num_flash_queries = 10\n",
    "flash_queries = make_learned_tokens(\n",
    "    (num_flash_queries, tformer_decoder.embed_dim)\n",
    ").cuda()\n",
    "\n",
    "# q = flash queries, kv = enc_out\n",
    "decoder_flash_out = tformer_decoder(\n",
    "    flash_queries.unsqueeze(0),\n",
    "    torch.zeros_like(flash_queries),\n",
    "    kv=enc_out,\n",
    "    pos_kv=pos_tokens.unsqueeze(0),\n",
    ")\n",
    "decoder_flash_out.last_hidden_state.shape"
   ]
  },
  {
   "cell_type": "code",
   "execution_count": 86,
   "metadata": {},
   "outputs": [],
   "source": [
    "num_pmts = 180\n",
    "regression_head = Mlp(\n",
    "    tformer_decoder.embed_dim,\n",
    "    512,\n",
    "    num_pmts + 1 + 1,  # PE distribution + time + confidence\n",
    ").cuda()\n",
    "\n",
    "final_flashes = regression_head(decoder_flash_out.last_hidden_state)\n",
    "final_flashes_pe = torch.exp(\n",
    "    torch.clamp(final_flashes[:, :, :num_pmts], min=-10, max=12)\n",
    ")\n",
    "final_flashes_time_log = torch.sigmoid(final_flashes[:, :, num_pmts : num_pmts + 1])\n",
    "final_flashes_confidence = torch.sigmoid(final_flashes[:, :, num_pmts + 1 :])\n",
    "\n",
    "\n",
    "final_flashes_pe_weighted = final_flashes_pe * final_flashes_confidence"
   ]
  },
  {
   "cell_type": "code",
   "execution_count": 132,
   "metadata": {},
   "outputs": [
    {
     "name": "stdout",
     "output_type": "stream",
     "text": [
      "torch.Size([1, 180, 18998])\n"
     ]
    }
   ],
   "source": [
    "pe_preds = final_flashes_pe  # Shape: (batch, num_flashes, num_pmts)\n",
    "time_log_preds = final_flashes_time_log  # Shape: (batch, num_flashes, 1)\n",
    "confidence_preds = final_flashes_confidence  # Shape: (batch, num_flashes, 1)\n",
    "\n",
    "# Create a differentiable 2D waveform aggregation\n",
    "batch_size = pe_preds.shape[0]\n",
    "num_flashes = pe_preds.shape[1]\n",
    "num_pmts = 180\n",
    "num_ticks = 1000\n",
    "\n",
    "def aggregate_flashes(\n",
    "    flash_pe_preds, time_log_preds, confidence, num_ticks=1000, sigma=2.0\n",
    "):\n",
    "    \"\"\"\n",
    "    Differentiable implementation using fully vectorized operations without loops\n",
    "    Supports batched inputs\n",
    "    \"\"\"\n",
    "    batch_size, num_flashes, num_pmts = flash_pe_preds.shape\n",
    "    device = flash_pe_preds.device\n",
    "\n",
    "    # Create time bin centers for all flashes\n",
    "    time_bins = torch.clamp(\n",
    "        time_log_preds * num_ticks, min=0, max=num_ticks - 1\n",
    "    ).squeeze(-1)  # Shape: (batch, num_flashes)\n",
    "\n",
    "    # Create all time indices and expand to match batch and flash dimensions\n",
    "    time_indices = torch.arange(num_ticks, device=device)\n",
    "\n",
    "    # Reshape dimensions for broadcasting:\n",
    "    # time_bins: (batch, num_flashes, 1)\n",
    "    # time_indices: (1, 1, num_ticks)\n",
    "    time_bins_expanded = time_bins.unsqueeze(-1)  # Shape: (batch, num_flashes, 1)\n",
    "    time_indices_expanded = time_indices.reshape(\n",
    "        1, 1, num_ticks\n",
    "    )  # Shape: (1, 1, num_ticks)\n",
    "\n",
    "    # Compute delta for all batches, flashes and time bins at once\n",
    "    delta = (\n",
    "        time_indices_expanded - time_bins_expanded\n",
    "    )  # Shape: (batch, num_flashes, num_ticks)\n",
    "\n",
    "    # Compute Gaussian weights for all batches, flashes and time bins\n",
    "    time_weights = torch.exp(\n",
    "        -0.5 * (delta / sigma) ** 2\n",
    "    )  # Shape: (batch, num_flashes, num_ticks)\n",
    "    time_weights = time_weights / (\n",
    "        time_weights.sum(dim=2, keepdim=True) + 1e-10\n",
    "    )  # Normalize along time dimension\n",
    "\n",
    "    # Scale PE values by confidence\n",
    "    # flash_pe_preds: (batch, num_flashes, num_pmts)\n",
    "    # confidence: (batch, num_flashes, 1)\n",
    "    scaled_pe = flash_pe_preds * confidence.squeeze(-1).unsqueeze(\n",
    "        -1\n",
    "    )  # Shape: (batch, num_flashes, num_pmts)\n",
    "\n",
    "    # Reshape for broadcasting:\n",
    "    # scaled_pe: (batch, num_flashes, num_pmts, 1)\n",
    "    # time_weights: (batch, num_flashes, 1, num_ticks)\n",
    "    scaled_pe_expanded = scaled_pe.unsqueeze(\n",
    "        -1\n",
    "    )  # Shape: (batch, num_flashes, num_pmts, 1)\n",
    "    time_weights_expanded = time_weights.unsqueeze(\n",
    "        2\n",
    "    )  # Shape: (batch, num_flashes, 1, num_ticks)\n",
    "\n",
    "    # Compute contribution for all batches and flashes at once\n",
    "    contribution = (\n",
    "        scaled_pe_expanded * time_weights_expanded\n",
    "    )  # Shape: (batch, num_flashes, num_pmts, num_ticks)\n",
    "\n",
    "    # Sum contributions across all flashes\n",
    "    waveform = contribution.sum(dim=1)  # Shape: (batch, num_pmts, num_ticks)\n",
    "\n",
    "    return waveform\n",
    "\n",
    "\n",
    "# Generate waveform using vectorized implementation\n",
    "vectorized_waveform = aggregate_flashes(\n",
    "    pe_preds, time_log_preds, confidence_preds, num_ticks=1_000, sigma=0.1\n",
    ")\n",
    "\n",
    "# Run waveform through waveform simulator\n",
    "simulated_waveform = sim(vectorized_waveform, relax_cut=False)\n",
    "\n",
    "simulated_waveform = (\n",
    "    simulated_waveform[..., :16_000].reshape(batch_size, num_pmts, -1, 16).sum(-1)\n",
    ")"
   ]
  },
  {
   "cell_type": "code",
   "execution_count": 139,
   "metadata": {},
   "outputs": [
    {
     "data": {
      "text/plain": [
       "<matplotlib.image.AxesImage at 0x7f88979f1300>"
      ]
     },
     "execution_count": 139,
     "metadata": {},
     "output_type": "execute_result"
    },
    {
     "data": {
      "image/png": "[encoded data removed]",
      "text/plain": [
       "<Figure size 640x480 with 1 Axes>"
      ]
     },
     "metadata": {},
     "output_type": "display_data"
    }
   ],
   "source": [
    "plt.imshow(simulated_waveform.squeeze().detach().cpu().numpy(), aspect='auto')"
   ]
  }
 ],
 "metadata": {
  "kernelspec": {
   "display_name": "cc",
   "language": "python",
   "name": "python3"
  },
  "language_info": {
   "codemirror_mode": {
    "name": "ipython",
    "version": 3
   },
   "file_extension": ".py",
   "mimetype": "text/x-python",
   "name": "python",
   "nbconvert_exporter": "python",
   "pygments_lexer": "ipython3",
   "version": "3.10.16"
  }
 },
 "nbformat": 4,
 "nbformat_minor": 2
}
